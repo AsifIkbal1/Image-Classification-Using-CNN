{
 "cells": [
  {
   "cell_type": "code",
   "execution_count": 1,
   "metadata": {},
   "outputs": [],
   "source": [
    "#import module\n",
    "from keras.models import Sequential\n",
    "from keras.layers import Conv2D, MaxPooling2D, Flatten, Dense\n",
    "from keras.preprocessing.image import ImageDataGenerator"
   ]
  },
  {
   "cell_type": "code",
   "execution_count": 2,
   "metadata": {},
   "outputs": [],
   "source": [
    "classifier=Sequential() # Empty Model"
   ]
  },
  {
   "cell_type": "code",
   "execution_count": 3,
   "metadata": {},
   "outputs": [],
   "source": [
    "classifier.add(Conv2D(32,(3,3),input_shape=(128,128,3),activation='relu'))  # 1st Hidden Layer [32 input node & (3,3) karnel ami 32 ta node pathabo"
   ]
  },
  {
   "cell_type": "code",
   "execution_count": 4,
   "metadata": {},
   "outputs": [],
   "source": [
    "classifier.add(MaxPooling2D(pool_size=(2,2))) #(2,2) 2by 2 kore kaj korbe r 1 kore move korbe."
   ]
  },
  {
   "cell_type": "code",
   "execution_count": 5,
   "metadata": {},
   "outputs": [],
   "source": [
    "classifier.add(Conv2D(64,(3,3),activation='relu')) # 2nd Hidden Layer"
   ]
  },
  {
   "cell_type": "code",
   "execution_count": 6,
   "metadata": {},
   "outputs": [],
   "source": [
    "classifier.add(MaxPooling2D(pool_size=(2,2)))"
   ]
  },
  {
   "cell_type": "code",
   "execution_count": 7,
   "metadata": {},
   "outputs": [],
   "source": [
    "classifier.add(Conv2D(128,(3,3),activation='relu')) # 3rd Hidden Layer"
   ]
  },
  {
   "cell_type": "code",
   "execution_count": 8,
   "metadata": {},
   "outputs": [],
   "source": [
    "classifier.add(MaxPooling2D(pool_size=(2,2)))"
   ]
  },
  {
   "cell_type": "code",
   "execution_count": 9,
   "metadata": {},
   "outputs": [],
   "source": [
    "classifier.add(Flatten()) # 1d Array [input dei na, eta single]"
   ]
  },
  {
   "cell_type": "markdown",
   "metadata": {},
   "source": [
    "# Connected Layer"
   ]
  },
  {
   "cell_type": "code",
   "execution_count": 10,
   "metadata": {},
   "outputs": [],
   "source": [
    "classifier.add(Dense(128,activation='relu')) #connected layer [128 ta theke (2) tate jbe]"
   ]
  },
  {
   "cell_type": "code",
   "execution_count": 11,
   "metadata": {},
   "outputs": [],
   "source": [
    "classifier.add(Dense(2,activation='softmax')) #final lyer [2= cat,dog]"
   ]
  },
  {
   "cell_type": "code",
   "execution_count": 12,
   "metadata": {},
   "outputs": [],
   "source": [
    "classifier.compile(loss='categorical_crossentropy',optimizer='adam',metrics=['accuracy'])"
   ]
  },
  {
   "cell_type": "markdown",
   "metadata": {},
   "source": [
    "# Fitting Images with the Model"
   ]
  },
  {
   "cell_type": "code",
   "execution_count": 13,
   "metadata": {},
   "outputs": [],
   "source": [
    "train_datagen=ImageDataGenerator(rescale=1./255,shear_range=0.2,zoom_range=0.2,horizontal_flip=True)"
   ]
  },
  {
   "cell_type": "code",
   "execution_count": 14,
   "metadata": {},
   "outputs": [],
   "source": [
    "test_design=ImageDataGenerator(rescale=1./255) # [1.use for make flot and 255 is all color value]"
   ]
  },
  {
   "cell_type": "code",
   "execution_count": 17,
   "metadata": {},
   "outputs": [
    {
     "name": "stdout",
     "output_type": "stream",
     "text": [
      "Found 23000 images belonging to 2 classes.\n",
      "Found 2000 images belonging to 2 classes.\n"
     ]
    }
   ],
   "source": [
    "training_dataset=train_datagen.flow_from_directory(\"D:/newfolder/dataset/train\",target_size=(128,128),batch_size=32,class_mode='categorical')  #[pura data set computer akbare excute korte pre na,tai vag kore day...tai 32 dia vag kore joto data hoy toto daata nibe]\n",
    "test_dataset=train_datagen.flow_from_directory(\"D:/newfolder/dataset/test\",target_size=(128,128),batch_size=32,class_mode='categorical')"
   ]
  },
  {
   "cell_type": "code",
   "execution_count": 20,
   "metadata": {
    "scrolled": true
   },
   "outputs": [
    {
     "name": "stdout",
     "output_type": "stream",
     "text": [
      "Epoch 1/5\n",
      "359/359 [==============================] - 379s 1s/step - loss: 0.5470 - accuracy: 0.7227 - val_loss: 0.5697 - val_accuracy: 0.6652\n",
      "Epoch 2/5\n",
      "359/359 [==============================] - 351s 977ms/step - loss: 0.5012 - accuracy: 0.7556 - val_loss: 0.4734 - val_accuracy: 0.7634\n",
      "Epoch 3/5\n",
      "359/359 [==============================] - 339s 944ms/step - loss: 0.4630 - accuracy: 0.7812 - val_loss: 0.4760 - val_accuracy: 0.7411\n",
      "Epoch 4/5\n",
      "359/359 [==============================] - 308s 855ms/step - loss: 0.4390 - accuracy: 0.7963 - val_loss: 0.4778 - val_accuracy: 0.7634\n",
      "Epoch 5/5\n",
      "359/359 [==============================] - 324s 901ms/step - loss: 0.4122 - accuracy: 0.8076 - val_loss: 0.4205 - val_accuracy: 0.8125\n"
     ]
    },
    {
     "data": {
      "text/plain": [
       "<keras.callbacks.History at 0x2726ffac788>"
      ]
     },
     "execution_count": 20,
     "metadata": {},
     "output_type": "execute_result"
    }
   ],
   "source": [
    "classifier.fit(training_dataset,steps_per_epoch=11500/32,epochs=5,validation_data=test_dataset,validation_steps= 200/32) #[#[pura data set computer akbare excute korte pre na,tai vag kore day...tai 2 dia vag kore joto data hoy toto daata nibe  r 200/32 holo akta adarso man]]"
   ]
  },
  {
   "cell_type": "code",
   "execution_count": 21,
   "metadata": {},
   "outputs": [],
   "source": [
    "import os \n",
    "target_dirctory =\"D:/newfolder/dataset\"\n",
    "if not os.path.exists(target_dirctory):\n",
    "    os.mkdir(target_dirctory)"
   ]
  },
  {
   "cell_type": "code",
   "execution_count": 22,
   "metadata": {},
   "outputs": [],
   "source": [
    "classifier.save(\"D:/newfolder/dataset/model/model.h5\")\n",
    "classifier.save_weights('D:/newfolder/dataset/model/weights.h5')\n"
   ]
  },
  {
   "cell_type": "code",
   "execution_count": 23,
   "metadata": {},
   "outputs": [],
   "source": [
    "import numpy as np\n",
    "from keras.preprocessing.image import ImageDataGenerator, load_img, img_to_array\n",
    "from keras.models import Sequential, load_model\n",
    "from PIL import Image, ImageTk\n",
    "from io import BytesIO\n",
    "import requests\n",
    "from tkinter import Tk, Label,Canvas, NW, Entry, Button\n",
    "from keras.preprocessing import image as image_utils"
   ]
  },
  {
   "cell_type": "code",
   "execution_count": 24,
   "metadata": {},
   "outputs": [],
   "source": [
    "#Load Model\n",
    "image_width, image_height = 128, 128\n",
    "model_path = 'D:/newfolder/dataset/model/model.h5'\n",
    "model_wieght_path = \"D:/newfolder/dataset/model/weights.h5\"\n",
    "model = load_model(model_path)\n",
    "model.load_weights(model_wieght_path)"
   ]
  },
  {
   "cell_type": "code",
   "execution_count": 25,
   "metadata": {},
   "outputs": [],
   "source": [
    "url = ''\n",
    "window = Tk()\n",
    "window.title(\"Image Classification  \")\n",
    "window.geometry(\"800x600\")\n",
    "lbl = Label(window, text = \"Please Enter The Image Url\", font = (\"Halvetica\", 16))\n",
    "lbl.pack()\n",
    "\n",
    "def Enter():\n",
    "    global url\n",
    "    lbl.configure()\n",
    "    url = (User_input.get())\n",
    "    print(url)\n",
    "    \n",
    "    \n",
    "    response = requests.get(url)\n",
    "    test_image = Image.open(BytesIO(response.content))\n",
    "    put_image = test_image.resize((400, 400))\n",
    "    test_image = test_image.resize((128, 128))\n",
    "    \n",
    "    img = ImageTk.PhotoImage(put_image)\n",
    "    pic = Label(image = img)\n",
    "    pic.pack()\n",
    "    pic.image = img\n",
    "    test_image = image_utils.img_to_array(test_image)\n",
    "    test_image = np.expand_dims(test_image, axis = 0)\n",
    "    \n",
    "    result = model.predict_on_batch(test_image)\n",
    "    \n",
    "    \n",
    "    \n",
    "    if result[0][0] == 1:\n",
    "        ans = \"Cat\"\n",
    "    elif result[0][1] == 1:\n",
    "        ans = \"Dog\"\n",
    "    \n",
    "    \n",
    "    \n",
    "    out = Label(window, text = \"Predicted Results: \" + ans, font = (\"Halvetica\", 16))\n",
    "    \n",
    "    out.pack()"
   ]
  },
  {
   "cell_type": "code",
   "execution_count": null,
   "metadata": {},
   "outputs": [],
   "source": [
    "User_input = Entry(width = 100)\n",
    "User_input.pack()\n",
    "button = Button(window, text = \"Detect the Image\", font = (\"Halvetica\", 16), command = Enter)\n",
    "button.pack()\n",
    "window.mainloop()"
   ]
  }
 ],
 "metadata": {
  "kernelspec": {
   "display_name": "Python 3",
   "language": "python",
   "name": "python3"
  },
  "language_info": {
   "codemirror_mode": {
    "name": "ipython",
    "version": 3
   },
   "file_extension": ".py",
   "mimetype": "text/x-python",
   "name": "python",
   "nbconvert_exporter": "python",
   "pygments_lexer": "ipython3",
   "version": "3.7.6"
  }
 },
 "nbformat": 4,
 "nbformat_minor": 4
}
